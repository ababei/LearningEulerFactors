{
 "cells": [
  {
   "cell_type": "markdown",
   "metadata": {},
   "source": [
    "This notebook provides the terminal commands needed to train and load the models described in Section 4, as well as the encoder-decoder model for predicting a2 described in Section 7.3. The trained models are available at ['Trained transformer models for predicting traces of Frobenius of elliptic curves with conductor up to 10^6'](https://zenodo.org/records/15849326).  The commands should be run from the Int2Int directory."
   ]
  },
  {
   "cell_type": "code",
   "execution_count": 2,
   "metadata": {},
   "outputs": [],
   "source": [
    "# Training command \n",
    "\n",
    "# The following are specific to the trained models linked above.\n",
    "sizes={2:7*10**5, 3:12*10**5, 97:35*10**5}\n",
    "ranges={2:5, 3:7, 97:39}\n",
    "basep={2:20, 3:20, 97:39}\n",
    "\n",
    "\n",
    "p = 97  # Choose a prime number. The trained models contain p = 2, 3 and 97\n",
    "epoch_size=sizes[p]\n",
    "rangep=ranges[p]\n",
    "base=basep[p]\n",
    "\n",
    "exp_name = f'ap_to_a{p}'  # Define experiment name \n",
    "\n",
    "# More general parameters\n",
    "python_name = 'python'  # Use your system's Python command (e.g., 'python', 'python3', or 'py')\n",
    "\n",
    "architecture = 'encoder_only' #Set to \"encoder-decoder\" to include decoder layers\n",
    "n_enc_layers = 4\n",
    "n_dec_layers = 1\n",
    "\n",
    "exp_id_train = 1  # Set your experiment ID for training\n",
    "\n",
    "num_workers = 1  # Number of CPU workers\n",
    "\n",
    "data_folder = 'data/'  # Folder containing the training and test data\n",
    "\n",
    "if architecture=='encoder_only':\n",
    "    train_cmd = f'{python_name} train.py --num_workers {num_workers} --dump_path scratch --exp_name {exp_name} --exp_id {exp_id_train} \\\n",
    "    --train_data {data_folder}/{exp_name}_train.txt --eval_data {data_folder}/{exp_name}_test.txt \\\n",
    "    --operation data --data_types int[24]:range({rangep}) --env_base_seed 42 --architecture {architecture} n_enc_layers {n_enc_layers}\\\n",
    "    --epoch_size {epoch_size} --optimizer adam,lr=0.00003 --eval_size 10000 --batch_size_eval 10000  --base {basep} --max_epoch 201'\n",
    "else:\n",
    "    train_cmd = f'{python_name} train.py --num_workers {num_workers} --dump_path scratch --exp_name {exp_name} --exp_id {exp_id_train} \\\n",
    "    --train_data {data_folder}/{exp_name}_train.txt --eval_data {data_folder}/{exp_name}_test.txt \\\n",
    "    --operation data --data_types int[24]:range({rangep}) --env_base_seed 42 --architecture {architecture} --n_dec_layers  {n_dec_layers}\\\n",
    "    --epoch_size {epoch_size} --optimizer adam,lr=0.00003 --eval_size 10000 --batch_size_eval 10000  --base {basep} --max_epoch 201'"
   ]
  },
  {
   "cell_type": "code",
   "execution_count": null,
   "metadata": {},
   "outputs": [],
   "source": [
    "# Load and evaluate the models\n",
    "\n",
    "exp_id_load = \"good_red\"  # Set your experiment ID for loading. For the models linked above, the IDs are good_red for the encoder-only models, and good_red_1declay for the encoder-decoder model.\n",
    "\n",
    "checkpoint_name = \"periodic-200\" # Name of the checkpoint. Usually \"checkpoint\", but if the periodic save was used in training, it can be e.g. \"periodic-100\"\n",
    "\n",
    "eval_verbose = True # Pick True to export detailed results of evaluation to scratch/{exp_name}/{exp_id_load}, and False otherwise.\n",
    "\n",
    "if architecture=='encoder_only':\n",
    "    load_cmd = f'{python_name} train.py --num_workers {num_workers} --dump_path scratch --exp_name {exp_name} --exp_id {exp_id_load} \\\n",
    "    --reload_model scratch/{exp_name}/{exp_id_train}/{checkpoint_name}.pth --reload_checkpoint scratch/{exp_name}/{exp_id_train}/{checkpoint_name}.pth \\\n",
    "    --eval_only True eval_verbose {eval_verbose} --eval_data {data_folder}/{exp_name}_test.txt \\\n",
    "    --operation data --data_types int[24]:range({rangep}) --env_base_seed 42 --architecture {architecture} n_enc_layers {n_enc_layers}\\\n",
    "    --epoch_size {epoch_size} --optimizer adam,lr=0.00003 --eval_size 10000 --batch_size_eval 10000  --base {basep} --max_epoch 201'\n",
    "else:\n",
    "    load_cmd = f'{python_name} train.py --num_workers {num_workers} --dump_path scratch --exp_name {exp_name} --exp_id {exp_id_load} \\\n",
    "    --reload_model scratch/{exp_name}/{exp_id_train}/{checkpoint_name}.pth --reload_checkpoint scratch/{exp_name}/{exp_id_train}/{checkpoint_name}.pth \\\n",
    "    --eval_only True eval_verbose {eval_verbose} --eval_data {data_folder}/{exp_name}_test.txt \\\n",
    "    --operation data --data_types int[24]:range({rangep}) --env_base_seed 42 --architecture {architecture} --n_dec_layers  {n_dec_layers}\\\n",
    "    --epoch_size {epoch_size} --optimizer adam,lr=0.00003 --eval_size 10000 --batch_size_eval 10000  --base {basep} --max_epoch 201'"
   ]
  }
 ],
 "metadata": {
  "kernelspec": {
   "display_name": "Python 3",
   "language": "python",
   "name": "python3"
  },
  "language_info": {
   "codemirror_mode": {
    "name": "ipython",
    "version": 3
   },
   "file_extension": ".py",
   "mimetype": "text/x-python",
   "name": "python",
   "nbconvert_exporter": "python",
   "pygments_lexer": "ipython3",
   "version": "3.12.1"
  }
 },
 "nbformat": 4,
 "nbformat_minor": 4
}
