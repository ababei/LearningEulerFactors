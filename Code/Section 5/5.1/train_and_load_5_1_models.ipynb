{
 "cells": [
  {
   "cell_type": "markdown",
   "metadata": {},
   "source": [
    "This notebook provides the terminal commands needed to train and load the models described in Section 5.1. The trained models are available at ['Checkpoints And Train Logs for Section 5.1 in Learning Euler Factors of Elliptic Curves.'](http://zenodo.org/doi/10.5281/zenodo.15837357).  The commands should be run from the Int2Int directory."
   ]
  },
  {
   "cell_type": "code",
   "execution_count": null,
   "metadata": {},
   "outputs": [],
   "source": [
    "# Training command\n",
    "\n",
    "p = 2  # Choose a prime number\n",
    "\n",
    "python_name = 'python'  # Use your system's Python command (e.g., 'python', 'python3', or 'py')\n",
    "\n",
    "exp_name = f'raw_aps_but_{p}_to_a{p}_mod_2'  # Define experiment name \n",
    "\n",
    "exp_id_train = 1  # Set your experiment ID for training\n",
    "\n",
    "num_workers = 1  # Number of CPU workers\n",
    "\n",
    "data_folder = 'data'  # Folder containing the training and test data\n",
    "\n",
    "gpu = 0  # GPU ID to use, assuming you have a GPU setup\n",
    "\n",
    "train_cmd = f\"{python_name} train.py --num_workers {num_workers} --dump_path scratch --exp_name {exp_name} --exp_id {exp_id_train} \\\n",
    "    --train_data {data_folder}/{exp_name}/{exp_name}_train.txt --eval_data {data_folder}/{exp_name}/{exp_name}_test.txt --local_gpu {gpu} \\\n",
    "    --operation data --data_types 'int[24]:int' --env_base_seed 42 --architecture encoder_only \\\n",
    "    --epoch_size 100000 --optimizer adam,lr=0.00005 --base 20 --max_epoch 400\""
   ]
  },
  {
   "cell_type": "code",
   "execution_count": null,
   "metadata": {},
   "outputs": [],
   "source": [
    "# Load and evaluate the models\n",
    "\n",
    "exp_id_load = \"1\"  # Set your experiment ID for loading. For the experiments for predicting a_p mod 2 linked above, the ID is always set to \"1\".\n",
    "\n",
    "checkpoint_name = \"checkpoint\" # Name of the checkpoint.\n",
    "\n",
    "eval_verbose = 1 # Pick 1 to export detailed results of evaluation to scratch/{exp_name}/{exp_id_load}. Otherwise pick 0 or omit parameter.\n",
    "\n",
    "load_cmd = f\"{python_name} train.py --num_workers {num_workers} --dump_path scratch --exp_name {exp_name} --exp_id {exp_id_load} \\\n",
    "    --reload_model scratch/{exp_name}/{exp_id_load}/{checkpoint_name}.pth --reload_checkpoint scratch/{exp_name}/{exp_id_load}/{checkpoint_name}.pth \\\n",
    "    --eval_only True --eval_verbose {eval_verbose} --eval_data {data_folder}/{exp_name}/{exp_name}_test.txt \\\n",
    "    --operation data --data_types 'int[24]:int' --env_base_seed 42 --architecture encoder_only \\\n",
    "    --epoch_size 100000 --optimizer adam,lr=0.00005 --base 20\""
   ]
  }
 ],
 "metadata": {
  "kernelspec": {
   "display_name": "Python 3",
   "language": "python",
   "name": "python3"
  },
  "language_info": {
   "codemirror_mode": {
    "name": "ipython",
    "version": 3
   },
   "file_extension": ".py",
   "mimetype": "text/x-python",
   "name": "python",
   "nbconvert_exporter": "python",
   "pygments_lexer": "ipython3",
   "version": "3.10.7"
  }
 },
 "nbformat": 4,
 "nbformat_minor": 4
}
